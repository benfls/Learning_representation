{
 "cells": [
  {
   "cell_type": "markdown",
   "metadata": {},
   "source": [
    "Importation des librairies"
   ]
  },
  {
   "cell_type": "code",
   "execution_count": null,
   "metadata": {
    "vscode": {
     "languageId": "plaintext"
    }
   },
   "outputs": [],
   "source": [
    "import torch\n",
    "import torch.nn as nn\n",
    "import torch.optim as optim\n",
    "import torchvision.transforms as transforms\n",
    "from torchvision.utils import save_image\n",
    "import numpy as np\n",
    "import pandas as pd\n",
    "import random\n",
    "import torch.nn.functional as F\n",
    "import matplotlib.pyplot as plt\n",
    "from sklearn.model_selection import train_test_split\n",
    "from torch.utils.data import DataLoader, Dataset, TensorDataset\n",
    "from gensim.models import Word2Vec\n",
    "from gensim.utils import simple_preprocess\n",
    "from collections import Counter"
   ]
  },
  {
   "cell_type": "code",
   "execution_count": null,
   "metadata": {
    "vscode": {
     "languageId": "plaintext"
    }
   },
   "outputs": [],
   "source": [
    "device = torch.device('cuda' if torch.cuda.is_available() else 'cpu')\n",
    "device"
   ]
  },
  {
   "cell_type": "markdown",
   "metadata": {},
   "source": [
    "Data Loading"
   ]
  },
  {
   "cell_type": "code",
   "execution_count": null,
   "metadata": {
    "vscode": {
     "languageId": "plaintext"
    }
   },
   "outputs": [],
   "source": [
    "categories = [\"airplane\", \"backpack\", \"car\", \"coffee_cup\", \"sailboat\"]\n",
    "\n",
    "airplane = np.load('/content/drive/MyDrive/Quickdraw/datasets/full_numpy_bitmap_airplane.npy')\n",
    "backpack = np.load('/content/drive/MyDrive/Quickdraw/datasets/full_numpy_bitmap_backpack.npy')\n",
    "car = np.load('/content/drive/MyDrive/Quickdraw/datasets/full_numpy_bitmap_car.npy')\n",
    "coffee_cup = np.load('/content/drive/MyDrive/Quickdraw/datasets/full_numpy_bitmap_coffee cup.npy')\n",
    "sailboat = np.load('/content/drive/MyDrive/Quickdraw/datasets/full_numpy_bitmap_sailboat.npy')\n",
    "\n",
    "image = [airplane[:10000], backpack[:10000],car[:10000], coffee_cup[:10000], sailboat[:10000]]"
   ]
  },
  {
   "cell_type": "markdown",
   "metadata": {},
   "source": [
    "Preprocessing data"
   ]
  },
  {
   "cell_type": "code",
   "execution_count": null,
   "metadata": {
    "vscode": {
     "languageId": "plaintext"
    }
   },
   "outputs": [],
   "source": [
    "pic = image[4][7].reshape(28, 28)\n",
    "plt.imshow(pic, cmap='gray')\n",
    "plt.show()"
   ]
  },
  {
   "cell_type": "code",
   "execution_count": null,
   "metadata": {
    "vscode": {
     "languageId": "plaintext"
    }
   },
   "outputs": [],
   "source": [
    "# Création du DataFrame\n",
    "source = {\"Catégorie\": [], \"image\": []}\n",
    "\n",
    "for cat, arr in zip(categories, image):\n",
    "    for val in arr:\n",
    "        source[\"Catégorie\"].append(cat)\n",
    "        source[\"image\"].append(val)\n",
    "\n",
    "df = pd.DataFrame(source)\n",
    "\n",
    "# Affichage du DataFrame\n",
    "print(df)"
   ]
  },
  {
   "cell_type": "markdown",
   "metadata": {},
   "source": [
    "Géneration des questions"
   ]
  },
  {
   "cell_type": "code",
   "execution_count": null,
   "metadata": {
    "vscode": {
     "languageId": "plaintext"
    }
   },
   "outputs": [],
   "source": [
    "# Différents modèles de questions\n",
    "QUESTION_TEMPLATES = [\n",
    "    \"Peux-tu me dire si c'est un {} ?\",\n",
    "    \"Est-ce un {} sur l'image ?\",\n",
    "    \"L'image contient-elle un {} ?\",\n",
    "    \"Y a-t-il un {} ici ?\",\n",
    "    \"Ce dessin représente-t-il un {} ?\",\n",
    "    \"On dirait un {}, non ?\",\n",
    "    \"S'agit-il d'un {} ?\",\n",
    "]\n",
    "switcher = {\n",
    "        \"airplane\": \"avion\",\n",
    "        \"backpack\": \"sac\",\n",
    "        \"car\": \"voiture\",\n",
    "        \"coffee_cup\": \"tasse\",\n",
    "        \"sailboat\": \"bateau\",\n",
    "    }\n",
    "\n",
    "# Fonction pour générer une question aléatoire avec une catégorie aléatoire\n",
    "def generate_random_question(true_category):\n",
    "    category = random.choice(categories)  # Choisir une catégorie au hasard\n",
    "    if category == true_category:\n",
    "        category = true_category\n",
    "    else:\n",
    "        category = random.choice([category, true_category])\n",
    "    template = random.choice(QUESTION_TEMPLATES)  # Choisir un modèle de phrase au hasard\n",
    "\n",
    "    category_fr = switcher.get(category)\n",
    "    return template.format(category_fr), category # return question and category\n",
    "\n",
    "# Exemple\n",
    "true_category = \"airplane\"\n",
    "correct = 0\n",
    "for i in range(100):\n",
    "    question, category = generate_random_question(true_category)\n",
    "    if category==switcher.get(true_category):\n",
    "      correct += 1\n",
    "print(correct)\n",
    "print(question)  # Exemple : \"L'image contient-elle un avion ?\"\n",
    "print(category)"
   ]
  },
  {
   "cell_type": "code",
   "execution_count": null,
   "metadata": {
    "vscode": {
     "languageId": "plaintext"
    }
   },
   "outputs": [],
   "source": [
    "# Fonction pour encoder une question\n",
    "def encode_question(question):\n",
    "    words = simple_preprocess(question) #convert a document into a list of token.\n",
    "    vectors = [w2v_model.wv[word] for word in words if word in w2v_model.wv]\n",
    "    return np.mean(vectors, axis=0) if vectors else np.zeros(w2v_model.vector_size)\n",
    "\n",
    "# Exemple\n",
    "question = \"Y a-t-il un avion ici ?\"\n",
    "question_vector = encode_question(question)\n",
    "print(\"Feature de la question :\", question_vector.shape)  # (200,)"
   ]
  },
  {
   "cell_type": "code",
   "execution_count": null,
   "metadata": {
    "vscode": {
     "languageId": "plaintext"
    }
   },
   "outputs": [],
   "source": [
    "# Fusion des features d’image et de texte\n",
    "def fuse_features(image_features, question_features):\n",
    "    return np.concatenate((image_features, question_features))  # (128 + 200 = 328D)\n",
    "\n",
    "input = fuse_features(image_features, question_vector)\n",
    "print(input, input.shape)"
   ]
  },
  {
   "cell_type": "code",
   "execution_count": null,
   "metadata": {
    "vscode": {
     "languageId": "plaintext"
    }
   },
   "outputs": [],
   "source": [
    "# Modification de la boucle d'entraînement du MLP\n",
    "X_train = []\n",
    "y_train = []\n",
    "\n",
    "# Construire le dataset pour le MLP\n",
    "for _, row in df.iterrows():\n",
    "    image_vector = row[\"image\"]\n",
    "    true_category = row[\"Catégorie\"] # Stock la vraie catégorie\n",
    "\n",
    "    # Extraire les features de l’image\n",
    "    image_features = extract_image_features(image_vector)\n",
    "\n",
    "    # Générer une question aléatoire avec une catégorie aléatoire\n",
    "    question, question_category = generate_random_question(true_category)\n",
    "\n",
    "    # Encoder la question avec Word2Vec\n",
    "    question_features = encode_question(question)\n",
    "\n",
    "    # Fusionner\n",
    "    joint_representation = fuse_features(image_features, question_features)\n",
    "\n",
    "    # Définir la réponse (Oui = 1 si c'est la bonne catégorie, sinon Non = 0)\n",
    "    is_correct_category = (true_category == question_category)  # Comparer avec la vraie catégorie\n",
    "    label = 1 if is_correct_category else 0\n",
    "\n",
    "    X_train.append(joint_representation)\n",
    "    y_train.append(label)\n",
    "\n",
    "# Convertir en tensors\n",
    "X = torch.tensor(X_train, dtype=torch.float32).to(device)\n",
    "y = torch.tensor(y_train, dtype=torch.long).to(device)\n",
    "\n",
    "x_train, x_test, y_train, y_test = train_test_split(X, y, test_size=0.2, random_state=42)\n",
    "print(f\"✅ Dataset d'entrainement MLP prêt avec {len(x_train)} exemples.\")\n",
    "print(f\"✅ Dataset d'évaluation MLP prêt avec {len(x_test)} exemples.\")"
   ]
  },
  {
   "cell_type": "code",
   "execution_count": null,
   "metadata": {
    "vscode": {
     "languageId": "plaintext"
    }
   },
   "outputs": [],
   "source": [
    "# Compter le nombre de Oui et Non\n",
    "counter = Counter(y_train.cpu().numpy())\n",
    "print(f\"Avant équilibrage : {counter}\")\n",
    "\n",
    "num_yes = (y_train == 1).sum().item()\n",
    "num_no = (y_train == 0).sum().item()\n",
    "\n",
    "# Calculer les poids inverses (moins d'exemples = poids plus fort)\n",
    "weight_no = num_yes / (num_no + num_yes)\n",
    "weight_yes = num_no / (num_no + num_yes)\n",
    "\n",
    "weights = torch.tensor([weight_no, weight_yes], dtype=torch.float32)\n",
    "criterion = nn.CrossEntropyLoss(weight=weights)\n",
    "\n",
    "print(f\"✅ Poids des classes : Non={weight_no:.2f}, Oui={weight_yes:.2f}\")"
   ]
  }
 ],
 "metadata": {
  "language_info": {
   "name": "python"
  }
 },
 "nbformat": 4,
 "nbformat_minor": 2
}
