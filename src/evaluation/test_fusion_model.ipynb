{
 "cells": [
  {
   "cell_type": "code",
   "execution_count": null,
   "metadata": {},
   "outputs": [],
   "source": [
    "# Charger le modèle entraîné\n",
    "cnn_model.load_state_dict(torch.load(\"/content/drive/MyDrive/fusion_model/quickdraw_cnn_10000.pth\", map_location=torch.device('cpu')))\n",
    "cnn_model.eval()\n",
    "\n",
    "# Extraire les features d’une image\n",
    "def extract_image_features(image_vector):\n",
    "    image_tensor = torch.tensor(image_vector, dtype=torch.float32).view(1, 1, 28, 28).to(device)\n",
    "    features = cnn_model(image_tensor).cpu().detach().numpy().reshape(128)\n",
    "    return features\n",
    "\n",
    "# Exemple d’extraction\n",
    "image_features = extract_image_features(df.iloc[0][\"image\"])\n",
    "print(\"Features extraites :\", image_features, image_features.shape, df.iloc[0][\"Catégorie\"])  # (128,)"
   ]
  },
  {
   "cell_type": "code",
   "execution_count": null,
   "metadata": {},
   "outputs": [],
   "source": [
    "# Charger Word2Vec français\n",
    "w2v_model = Word2Vec.load(\"/content/drive/MyDrive/data/word2vec_fr.model\")"
   ]
  },
  {
   "cell_type": "code",
   "execution_count": null,
   "metadata": {},
   "outputs": [],
   "source": [
    "# Fonction pour encoder une question\n",
    "def encode_question(question):\n",
    "    words = simple_preprocess(question) #convert a document into a list of token.\n",
    "    vectors = [w2v_model.wv[word] for word in words if word in w2v_model.wv]\n",
    "    return np.mean(vectors, axis=0) if vectors else np.zeros(w2v_model.vector_size)\n",
    "\n",
    "# Exemple\n",
    "question = \"Y a-t-il un avion ici ?\"\n",
    "question_vector = encode_question(question)\n",
    "print(\"Feature de la question :\", question_vector.shape)  # (200,)"
   ]
  },
  {
   "cell_type": "code",
   "execution_count": null,
   "metadata": {},
   "outputs": [],
   "source": [
    "# Créer un DataLoader\n",
    "batch_size = 32\n",
    "test_dataset = TensorDataset(x_test, y_test)\n",
    "test_loader = DataLoader(test_dataset, batch_size=batch_size, shuffle=True)\n",
    "\n",
    "with torch.no_grad():\n",
    "    mlp_model.eval()\n",
    "    correct = 0\n",
    "    total = 0\n",
    "    for images, labels in test_loader:\n",
    "        outputs = mlp_model(images)\n",
    "        _, predicted = torch.max(outputs.data, 1)\n",
    "        total += labels.size(0)\n",
    "        correct += (predicted == labels).sum().item()\n",
    "\n",
    "    accuracy = 100 * correct / total\n",
    "    print(f\"✅ Précision sur le dataset de test : {accuracy}%\")\n",
    "    print(\"✅ Test terminé.\")"
   ]
  },
  {
   "cell_type": "code",
   "execution_count": null,
   "metadata": {},
   "outputs": [],
   "source": [
    "# Example usage:\n",
    "def predict_answer(image_vector, question):\n",
    "    # Extract image features\n",
    "    image_features = extract_image_features(image_vector)\n",
    "\n",
    "    # Encode the question\n",
    "    question_features = encode_question(question)\n",
    "\n",
    "    # Fuse features\n",
    "    fused_features = fuse_features(image_features, question_features)\n",
    "\n",
    "    # Convert to tensor\n",
    "    input_tensor = torch.tensor(fused_features, dtype=torch.float32).unsqueeze(0).to(device)\n",
    "\n",
    "    # Make prediction\n",
    "    with torch.no_grad():\n",
    "        output = mlp_model(input_tensor)\n",
    "        _, predicted = torch.max(output.data, 1)\n",
    "\n",
    "    # Return prediction (0 or 1)\n",
    "    return predicted.item()\n",
    "\n",
    "# Example prediction\n",
    "image_index = 1 # Choose an image index\n",
    "image_vector = df.iloc[image_index][\"image\"]\n",
    "question = \"Peux-tu me dire si c'est un airplane ?\"\n",
    "\n",
    "prediction = predict_answer(image_vector, question)\n",
    "print(prediction)\n",
    "print(f\"Question: {question}\")\n",
    "print(f\"Prediction: {'Oui' if prediction == 1 else 'Non'}\")\n",
    "\n",
    "# Display the image\n",
    "pic = image_vector.reshape(28, 28)\n",
    "plt.imshow(pic, cmap='gray')\n",
    "plt.title(f\"Actual Category: {df.iloc[image_index]['Catégorie']}\")\n",
    "plt.show()"
   ]
  }
 ],
 "metadata": {
  "kernelspec": {
   "display_name": ".venv",
   "language": "python",
   "name": "python3"
  },
  "language_info": {
   "name": "python",
   "version": "3.11.9"
  }
 },
 "nbformat": 4,
 "nbformat_minor": 2
}
