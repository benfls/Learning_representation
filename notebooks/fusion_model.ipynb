{
  "cells": [
    {
      "cell_type": "markdown",
      "metadata": {
        "id": "t1z65DOKhdwM"
      },
      "source": [
        "# Importation des librairie"
      ]
    },
    {
      "cell_type": "code",
      "execution_count": 2,
      "metadata": {
        "id": "cZdqjRfpg6nb"
      },
      "outputs": [],
      "source": [
        "import torch\n",
        "import torch.nn as nn\n",
        "import torch.optim as optim\n",
        "import torchvision.transforms as transforms\n",
        "import numpy as np\n",
        "import pandas as pd\n",
        "import random\n",
        "import torch.nn.functional as F\n",
        "import matplotlib.pyplot as plt\n",
        "from sklearn.model_selection import train_test_split\n",
        "from torch.utils.data import DataLoader, Dataset, TensorDataset\n",
        "from gensim.models import Word2Vec\n",
        "from gensim.utils import simple_preprocess\n",
        "from collections import Counter"
      ]
    },
    {
      "cell_type": "markdown",
      "metadata": {
        "id": "LvX9OG3MhX1t"
      },
      "source": [
        "Sélection du device pour bien utiliser le GPU avec CUDA"
      ]
    },
    {
      "cell_type": "code",
      "execution_count": 3,
      "metadata": {
        "colab": {
          "base_uri": "https://localhost:8080/"
        },
        "id": "E2l1l_0xhWBi",
        "outputId": "59ed7391-14cb-4c50-f9bf-aec689a215c4"
      },
      "outputs": [
        {
          "data": {
            "text/plain": [
              "device(type='cpu')"
            ]
          },
          "execution_count": 3,
          "metadata": {},
          "output_type": "execute_result"
        }
      ],
      "source": [
        "device = torch.device('cuda' if torch.cuda.is_available() else 'cpu')\n",
        "device"
      ]
    },
    {
      "cell_type": "markdown",
      "metadata": {
        "id": "LpbcUm-ZhkR1"
      },
      "source": [
        "# Data Loading"
      ]
    },
    {
      "cell_type": "code",
      "execution_count": null,
      "metadata": {
        "id": "_1j0BJDipdc7"
      },
      "outputs": [],
      "source": [
        "categories = [\"airplane\", \"backpack\", \"car\", \"coffee_cup\", \"sailboat\"]\n",
        "\n",
        "airplane = np.load('/content/drive/MyDrive/Quickdraw/datasets/full_numpy_bitmap_airplane.npy')\n",
        "backpack = np.load('/content/drive/MyDrive/Quickdraw/datasets/full_numpy_bitmap_backpack.npy')\n",
        "car = np.load('/content/drive/MyDrive/Quickdraw/datasets/full_numpy_bitmap_car.npy')\n",
        "coffee_cup = np.load('/content/drive/MyDrive/Quickdraw/datasets/full_numpy_bitmap_coffee cup.npy')\n",
        "sailboat = np.load('/content/drive/MyDrive/Quickdraw/datasets/full_numpy_bitmap_sailboat.npy')\n",
        "\n",
        "image = [airplane[:10000], backpack[:10000],car[:10000], coffee_cup[:10000], sailboat[:10000]]"
      ]
    },
    {
      "cell_type": "code",
      "execution_count": null,
      "metadata": {
        "colab": {
          "base_uri": "https://localhost:8080/"
        },
        "id": "q-0sPiDSSSd9",
        "outputId": "84c26ca2-bc61-4b87-a717-4d94d632f51e"
      },
      "outputs": [
        {
          "name": "stdout",
          "output_type": "stream",
          "text": [
            "Nombre de point par image 784\n",
            " Nombre de catégorie choisi 5\n",
            " Nombre d'image par catégorie 10000\n",
            "\n"
          ]
        }
      ],
      "source": [
        "print(f\"Nombre de point par image {len(image[0][0])}\\n\",\n",
        "      f\"Nombre de catégorie choisi {len(image)}\\n\",\n",
        "      f\"Nombre d'image par catégorie {len(image[0])}\\n\")"
      ]
    },
    {
      "cell_type": "markdown",
      "metadata": {
        "id": "HyH2DbIGh5-y"
      },
      "source": [
        "# Preprocessing des data"
      ]
    },
    {
      "cell_type": "code",
      "execution_count": null,
      "metadata": {
        "colab": {
          "base_uri": "https://localhost:8080/",
          "height": 430
        },
        "id": "G1U0iZajwH9C",
        "outputId": "a7d6965c-e53f-4cbe-f45b-cd2b16d34726"
      },
      "outputs": [
        {
          "data": {
            "image/png": "[encoded data removed]",
            "text/plain": [
              "<Figure size 640x480 with 1 Axes>"
            ]
          },
          "metadata": {},
          "output_type": "display_data"
        }
      ],
      "source": [
        "pic = image[4][7].reshape(28, 28)\n",
        "plt.imshow(pic, cmap='gray')\n",
        "plt.show()"
      ]
    },
    {
      "cell_type": "code",
      "execution_count": null,
      "metadata": {
        "colab": {
          "base_uri": "https://localhost:8080/"
        },
        "id": "aHK7Zy7mvm5l",
        "outputId": "d3d765a5-455f-44b6-e94c-c512b1900971"
      },
      "outputs": [
        {
          "name": "stdout",
          "output_type": "stream",
          "text": [
            "      Catégorie                                              image\n",
            "0      airplane  [0, 0, 0, 0, 0, 0, 0, 0, 0, 0, 0, 0, 0, 0, 0, ...\n",
            "1      airplane  [0, 0, 0, 0, 0, 0, 0, 0, 0, 0, 0, 0, 0, 0, 0, ...\n",
            "2      airplane  [0, 0, 0, 0, 0, 0, 0, 0, 0, 0, 0, 0, 0, 0, 0, ...\n",
            "3      airplane  [0, 0, 0, 0, 0, 0, 0, 0, 0, 0, 0, 0, 0, 0, 0, ...\n",
            "4      airplane  [0, 0, 0, 0, 0, 0, 0, 0, 0, 0, 0, 0, 0, 0, 0, ...\n",
            "...         ...                                                ...\n",
            "49995  sailboat  [0, 0, 0, 0, 0, 0, 0, 0, 0, 0, 0, 0, 0, 0, 0, ...\n",
            "49996  sailboat  [0, 0, 0, 0, 0, 0, 0, 0, 0, 0, 0, 0, 0, 0, 0, ...\n",
            "49997  sailboat  [0, 0, 0, 0, 0, 0, 0, 0, 0, 0, 0, 0, 0, 0, 0, ...\n",
            "49998  sailboat  [0, 0, 0, 0, 0, 0, 0, 0, 0, 0, 0, 0, 0, 0, 0, ...\n",
            "49999  sailboat  [0, 0, 0, 0, 0, 0, 0, 0, 0, 0, 0, 0, 0, 0, 0, ...\n",
            "\n",
            "[50000 rows x 2 columns]\n"
          ]
        }
      ],
      "source": [
        "# Création du DataFrame\n",
        "source = {\"Catégorie\": [], \"image\": []}\n",
        "\n",
        "for cat, arr in zip(categories, image):\n",
        "    for val in arr:\n",
        "        source[\"Catégorie\"].append(cat)\n",
        "        source[\"image\"].append(val)\n",
        "\n",
        "df = pd.DataFrame(source)\n",
        "\n",
        "# Affichage du DataFrame\n",
        "print(df)"
      ]
    },
    {
      "cell_type": "code",
      "execution_count": null,
      "metadata": {
        "colab": {
          "base_uri": "https://localhost:8080/"
        },
        "id": "fqIFhiHFwjHV",
        "outputId": "f2f343a5-2f64-43fa-e6d5-8502028ec9c9"
      },
      "outputs": [
        {
          "data": {
            "text/plain": [
              "(784,)"
            ]
          },
          "execution_count": 7,
          "metadata": {},
          "output_type": "execute_result"
        }
      ],
      "source": [
        "df['image'][0].shape"
      ]
    },
    {
      "cell_type": "markdown",
      "metadata": {
        "id": "DfsmqwvMbjvQ"
      },
      "source": [
        "# Préparation du CNN pour les images"
      ]
    },
    {
      "cell_type": "code",
      "execution_count": null,
      "metadata": {
        "colab": {
          "base_uri": "https://localhost:8080/"
        },
        "id": "qYmS0DXibC7X",
        "outputId": "daf0c411-b4fc-43f8-86cd-e8f1940085e9"
      },
      "outputs": [
        {
          "name": "stdout",
          "output_type": "stream",
          "text": [
            "✅ Dataset QuickDraw prêt pour l’entraînement.\n"
          ]
        }
      ],
      "source": [
        "# Définir un dataset PyTorch personnalisé\n",
        "class QuickDrawDataset(Dataset):\n",
        "    def __init__(self, dataframe):\n",
        "        self.data = dataframe\n",
        "\n",
        "    def __len__(self):\n",
        "        return len(self.data)\n",
        "\n",
        "    def __getitem__(self, idx):\n",
        "        image = self.data.iloc[idx][\"image\"]  # Array (784,)\n",
        "        label = self.data.iloc[idx][\"Catégorie\"]  # Nom de la catégorie\n",
        "\n",
        "        # Transformer l’image en tensor 1x28x28\n",
        "        image = torch.tensor(image, dtype=torch.float32).view(1, 28, 28).to(device)\n",
        "\n",
        "        # Transformer la catégorie en index numérique\n",
        "        category_dict = {cat: i for i, cat in enumerate(self.data[\"Catégorie\"].unique())}\n",
        "        label = torch.tensor(category_dict[label], dtype=torch.long).to(device)\n",
        "\n",
        "        return image, label\n",
        "\n",
        "# Instancier le dataset et le DataLoader\n",
        "train_dataset = QuickDrawDataset(df)\n",
        "train_loader = DataLoader(train_dataset, batch_size=32, shuffle=True)\n",
        "\n",
        "print(\"✅ Dataset QuickDraw prêt pour l’entraînement.\")\n"
      ]
    },
    {
      "cell_type": "code",
      "execution_count": 4,
      "metadata": {
        "colab": {
          "base_uri": "https://localhost:8080/"
        },
        "id": "8AgHbbKOcl1c",
        "outputId": "66011aa8-49da-44da-cc59-6ce7de5e4606"
      },
      "outputs": [
        {
          "name": "stdout",
          "output_type": "stream",
          "text": [
            "✅ CNN initialisé.\n"
          ]
        }
      ],
      "source": [
        "class FeatureExtractorCNN(nn.Module):\n",
        "    def __init__(self):\n",
        "        super(FeatureExtractorCNN, self).__init__()\n",
        "        self.conv1 = nn.Conv2d(1, 16, kernel_size=3, stride=1, padding=1)\n",
        "        self.relu = nn.ReLU()\n",
        "        self.pool = nn.MaxPool2d(kernel_size=2, stride=2)\n",
        "        self.conv2 = nn.Conv2d(16, 32, kernel_size=3, stride=1, padding=1)\n",
        "        self.flatten = nn.Flatten()  # Aplatir en un vecteur\n",
        "        self.fc = nn.Linear(32 * 7 * 7, 128)  # Réduction à 128 dimensions\n",
        "\n",
        "    def forward(self, x):\n",
        "        x = self.pool(self.relu(self.conv1(x)))\n",
        "        x = self.pool(self.relu(self.conv2(x)))\n",
        "        x = self.flatten(x)\n",
        "        x = self.fc(x)  # Sortie = 128 dimensions\n",
        "        return x  # Pas de softmax, on extrait juste les features\n",
        "\n",
        "# Initialiser le CNN\n",
        "cnn_model = FeatureExtractorCNN().to(device)\n",
        "print(\"✅ CNN initialisé.\")"
      ]
    },
    {
      "cell_type": "markdown",
      "metadata": {
        "id": "Akx8g5B1cD9u"
      },
      "source": [
        "Entrainement du modèle CNN pour une meilleur extraction des features"
      ]
    },
    {
      "cell_type": "code",
      "execution_count": null,
      "metadata": {
        "colab": {
          "base_uri": "https://localhost:8080/",
          "height": 356
        },
        "id": "AjW9jZUtcC9-",
        "outputId": "6338294d-33cd-4f3c-c539-ba8c2c29e9d7"
      },
      "outputs": [
        {
          "ename": "KeyboardInterrupt",
          "evalue": "",
          "output_type": "error",
          "traceback": [
            "\u001b[0;31m---------------------------------------------------------------------------\u001b[0m",
            "\u001b[0;31mKeyboardInterrupt\u001b[0m                         Traceback (most recent call last)",
            "\u001b[0;32m<ipython-input-10-201997e19421>\u001b[0m in \u001b[0;36m<cell line: 0>\u001b[0;34m()\u001b[0m\n\u001b[1;32m      9\u001b[0m \u001b[0;32mfor\u001b[0m \u001b[0mepoch\u001b[0m \u001b[0;32min\u001b[0m \u001b[0mrange\u001b[0m\u001b[0;34m(\u001b[0m\u001b[0mnum_epochs\u001b[0m\u001b[0;34m)\u001b[0m\u001b[0;34m:\u001b[0m\u001b[0;34m\u001b[0m\u001b[0;34m\u001b[0m\u001b[0m\n\u001b[1;32m     10\u001b[0m     \u001b[0mtotal_loss\u001b[0m \u001b[0;34m=\u001b[0m \u001b[0;36m0\u001b[0m\u001b[0;34m\u001b[0m\u001b[0;34m\u001b[0m\u001b[0m\n\u001b[0;32m---> 11\u001b[0;31m     \u001b[0;32mfor\u001b[0m \u001b[0mimages\u001b[0m\u001b[0;34m,\u001b[0m \u001b[0mlabels\u001b[0m \u001b[0;32min\u001b[0m \u001b[0mtrain_loader\u001b[0m\u001b[0;34m:\u001b[0m\u001b[0;34m\u001b[0m\u001b[0;34m\u001b[0m\u001b[0m\n\u001b[0m\u001b[1;32m     12\u001b[0m         \u001b[0moptimizer\u001b[0m\u001b[0;34m.\u001b[0m\u001b[0mzero_grad\u001b[0m\u001b[0;34m(\u001b[0m\u001b[0;34m)\u001b[0m\u001b[0;34m\u001b[0m\u001b[0;34m\u001b[0m\u001b[0m\n\u001b[1;32m     13\u001b[0m         \u001b[0moutputs\u001b[0m \u001b[0;34m=\u001b[0m \u001b[0mcnn_model\u001b[0m\u001b[0;34m(\u001b[0m\u001b[0mimages\u001b[0m\u001b[0;34m)\u001b[0m  \u001b[0;31m# On extrait les features\u001b[0m\u001b[0;34m\u001b[0m\u001b[0;34m\u001b[0m\u001b[0m\n",
            "\u001b[0;32m/usr/local/lib/python3.11/dist-packages/torch/utils/data/dataloader.py\u001b[0m in \u001b[0;36m__next__\u001b[0;34m(self)\u001b[0m\n\u001b[1;32m    699\u001b[0m                 \u001b[0;31m# TODO(https://github.com/pytorch/pytorch/issues/76750)\u001b[0m\u001b[0;34m\u001b[0m\u001b[0;34m\u001b[0m\u001b[0m\n\u001b[1;32m    700\u001b[0m                 \u001b[0mself\u001b[0m\u001b[0;34m.\u001b[0m\u001b[0m_reset\u001b[0m\u001b[0;34m(\u001b[0m\u001b[0;34m)\u001b[0m  \u001b[0;31m# type: ignore[call-arg]\u001b[0m\u001b[0;34m\u001b[0m\u001b[0;34m\u001b[0m\u001b[0m\n\u001b[0;32m--> 701\u001b[0;31m             \u001b[0mdata\u001b[0m \u001b[0;34m=\u001b[0m \u001b[0mself\u001b[0m\u001b[0;34m.\u001b[0m\u001b[0m_next_data\u001b[0m\u001b[0;34m(\u001b[0m\u001b[0;34m)\u001b[0m\u001b[0;34m\u001b[0m\u001b[0;34m\u001b[0m\u001b[0m\n\u001b[0m\u001b[1;32m    702\u001b[0m             \u001b[0mself\u001b[0m\u001b[0;34m.\u001b[0m\u001b[0m_num_yielded\u001b[0m \u001b[0;34m+=\u001b[0m \u001b[0;36m1\u001b[0m\u001b[0;34m\u001b[0m\u001b[0;34m\u001b[0m\u001b[0m\n\u001b[1;32m    703\u001b[0m             if (\n",
            "\u001b[0;32m/usr/local/lib/python3.11/dist-packages/torch/utils/data/dataloader.py\u001b[0m in \u001b[0;36m_next_data\u001b[0;34m(self)\u001b[0m\n\u001b[1;32m    755\u001b[0m     \u001b[0;32mdef\u001b[0m \u001b[0m_next_data\u001b[0m\u001b[0;34m(\u001b[0m\u001b[0mself\u001b[0m\u001b[0;34m)\u001b[0m\u001b[0;34m:\u001b[0m\u001b[0;34m\u001b[0m\u001b[0;34m\u001b[0m\u001b[0m\n\u001b[1;32m    756\u001b[0m         \u001b[0mindex\u001b[0m \u001b[0;34m=\u001b[0m \u001b[0mself\u001b[0m\u001b[0;34m.\u001b[0m\u001b[0m_next_index\u001b[0m\u001b[0;34m(\u001b[0m\u001b[0;34m)\u001b[0m  \u001b[0;31m# may raise StopIteration\u001b[0m\u001b[0;34m\u001b[0m\u001b[0;34m\u001b[0m\u001b[0m\n\u001b[0;32m--> 757\u001b[0;31m         \u001b[0mdata\u001b[0m \u001b[0;34m=\u001b[0m \u001b[0mself\u001b[0m\u001b[0;34m.\u001b[0m\u001b[0m_dataset_fetcher\u001b[0m\u001b[0;34m.\u001b[0m\u001b[0mfetch\u001b[0m\u001b[0;34m(\u001b[0m\u001b[0mindex\u001b[0m\u001b[0;34m)\u001b[0m  \u001b[0;31m# may raise StopIteration\u001b[0m\u001b[0;34m\u001b[0m\u001b[0;34m\u001b[0m\u001b[0m\n\u001b[0m\u001b[1;32m    758\u001b[0m         \u001b[0;32mif\u001b[0m \u001b[0mself\u001b[0m\u001b[0;34m.\u001b[0m\u001b[0m_pin_memory\u001b[0m\u001b[0;34m:\u001b[0m\u001b[0;34m\u001b[0m\u001b[0;34m\u001b[0m\u001b[0m\n\u001b[1;32m    759\u001b[0m             \u001b[0mdata\u001b[0m \u001b[0;34m=\u001b[0m \u001b[0m_utils\u001b[0m\u001b[0;34m.\u001b[0m\u001b[0mpin_memory\u001b[0m\u001b[0;34m.\u001b[0m\u001b[0mpin_memory\u001b[0m\u001b[0;34m(\u001b[0m\u001b[0mdata\u001b[0m\u001b[0;34m,\u001b[0m \u001b[0mself\u001b[0m\u001b[0;34m.\u001b[0m\u001b[0m_pin_memory_device\u001b[0m\u001b[0;34m)\u001b[0m\u001b[0;34m\u001b[0m\u001b[0;34m\u001b[0m\u001b[0m\n",
            "\u001b[0;32m/usr/local/lib/python3.11/dist-packages/torch/utils/data/_utils/fetch.py\u001b[0m in \u001b[0;36mfetch\u001b[0;34m(self, possibly_batched_index)\u001b[0m\n\u001b[1;32m     50\u001b[0m                 \u001b[0mdata\u001b[0m \u001b[0;34m=\u001b[0m \u001b[0mself\u001b[0m\u001b[0;34m.\u001b[0m\u001b[0mdataset\u001b[0m\u001b[0;34m.\u001b[0m\u001b[0m__getitems__\u001b[0m\u001b[0;34m(\u001b[0m\u001b[0mpossibly_batched_index\u001b[0m\u001b[0;34m)\u001b[0m\u001b[0;34m\u001b[0m\u001b[0;34m\u001b[0m\u001b[0m\n\u001b[1;32m     51\u001b[0m             \u001b[0;32melse\u001b[0m\u001b[0;34m:\u001b[0m\u001b[0;34m\u001b[0m\u001b[0;34m\u001b[0m\u001b[0m\n\u001b[0;32m---> 52\u001b[0;31m                 \u001b[0mdata\u001b[0m \u001b[0;34m=\u001b[0m \u001b[0;34m[\u001b[0m\u001b[0mself\u001b[0m\u001b[0;34m.\u001b[0m\u001b[0mdataset\u001b[0m\u001b[0;34m[\u001b[0m\u001b[0midx\u001b[0m\u001b[0;34m]\u001b[0m \u001b[0;32mfor\u001b[0m \u001b[0midx\u001b[0m \u001b[0;32min\u001b[0m \u001b[0mpossibly_batched_index\u001b[0m\u001b[0;34m]\u001b[0m\u001b[0;34m\u001b[0m\u001b[0;34m\u001b[0m\u001b[0m\n\u001b[0m\u001b[1;32m     53\u001b[0m         \u001b[0;32melse\u001b[0m\u001b[0;34m:\u001b[0m\u001b[0;34m\u001b[0m\u001b[0;34m\u001b[0m\u001b[0m\n\u001b[1;32m     54\u001b[0m             \u001b[0mdata\u001b[0m \u001b[0;34m=\u001b[0m \u001b[0mself\u001b[0m\u001b[0;34m.\u001b[0m\u001b[0mdataset\u001b[0m\u001b[0;34m[\u001b[0m\u001b[0mpossibly_batched_index\u001b[0m\u001b[0;34m]\u001b[0m\u001b[0;34m\u001b[0m\u001b[0;34m\u001b[0m\u001b[0m\n",
            "\u001b[0;32m/usr/local/lib/python3.11/dist-packages/torch/utils/data/_utils/fetch.py\u001b[0m in \u001b[0;36m<listcomp>\u001b[0;34m(.0)\u001b[0m\n\u001b[1;32m     50\u001b[0m                 \u001b[0mdata\u001b[0m \u001b[0;34m=\u001b[0m \u001b[0mself\u001b[0m\u001b[0;34m.\u001b[0m\u001b[0mdataset\u001b[0m\u001b[0;34m.\u001b[0m\u001b[0m__getitems__\u001b[0m\u001b[0;34m(\u001b[0m\u001b[0mpossibly_batched_index\u001b[0m\u001b[0;34m)\u001b[0m\u001b[0;34m\u001b[0m\u001b[0;34m\u001b[0m\u001b[0m\n\u001b[1;32m     51\u001b[0m             \u001b[0;32melse\u001b[0m\u001b[0;34m:\u001b[0m\u001b[0;34m\u001b[0m\u001b[0;34m\u001b[0m\u001b[0m\n\u001b[0;32m---> 52\u001b[0;31m                 \u001b[0mdata\u001b[0m \u001b[0;34m=\u001b[0m \u001b[0;34m[\u001b[0m\u001b[0mself\u001b[0m\u001b[0;34m.\u001b[0m\u001b[0mdataset\u001b[0m\u001b[0;34m[\u001b[0m\u001b[0midx\u001b[0m\u001b[0;34m]\u001b[0m \u001b[0;32mfor\u001b[0m \u001b[0midx\u001b[0m \u001b[0;32min\u001b[0m \u001b[0mpossibly_batched_index\u001b[0m\u001b[0;34m]\u001b[0m\u001b[0;34m\u001b[0m\u001b[0;34m\u001b[0m\u001b[0m\n\u001b[0m\u001b[1;32m     53\u001b[0m         \u001b[0;32melse\u001b[0m\u001b[0;34m:\u001b[0m\u001b[0;34m\u001b[0m\u001b[0;34m\u001b[0m\u001b[0m\n\u001b[1;32m     54\u001b[0m             \u001b[0mdata\u001b[0m \u001b[0;34m=\u001b[0m \u001b[0mself\u001b[0m\u001b[0;34m.\u001b[0m\u001b[0mdataset\u001b[0m\u001b[0;34m[\u001b[0m\u001b[0mpossibly_batched_index\u001b[0m\u001b[0;34m]\u001b[0m\u001b[0;34m\u001b[0m\u001b[0;34m\u001b[0m\u001b[0m\n",
            "\u001b[0;32m<ipython-input-8-5869de132b41>\u001b[0m in \u001b[0;36m__getitem__\u001b[0;34m(self, idx)\u001b[0m\n\u001b[1;32m     15\u001b[0m \u001b[0;34m\u001b[0m\u001b[0m\n\u001b[1;32m     16\u001b[0m         \u001b[0;31m# Transformer la catégorie en index numérique\u001b[0m\u001b[0;34m\u001b[0m\u001b[0;34m\u001b[0m\u001b[0m\n\u001b[0;32m---> 17\u001b[0;31m         \u001b[0mcategory_dict\u001b[0m \u001b[0;34m=\u001b[0m \u001b[0;34m{\u001b[0m\u001b[0mcat\u001b[0m\u001b[0;34m:\u001b[0m \u001b[0mi\u001b[0m \u001b[0;32mfor\u001b[0m \u001b[0mi\u001b[0m\u001b[0;34m,\u001b[0m \u001b[0mcat\u001b[0m \u001b[0;32min\u001b[0m \u001b[0menumerate\u001b[0m\u001b[0;34m(\u001b[0m\u001b[0mself\u001b[0m\u001b[0;34m.\u001b[0m\u001b[0mdata\u001b[0m\u001b[0;34m[\u001b[0m\u001b[0;34m\"Catégorie\"\u001b[0m\u001b[0;34m]\u001b[0m\u001b[0;34m.\u001b[0m\u001b[0munique\u001b[0m\u001b[0;34m(\u001b[0m\u001b[0;34m)\u001b[0m\u001b[0;34m)\u001b[0m\u001b[0;34m}\u001b[0m\u001b[0;34m\u001b[0m\u001b[0;34m\u001b[0m\u001b[0m\n\u001b[0m\u001b[1;32m     18\u001b[0m         \u001b[0mlabel\u001b[0m \u001b[0;34m=\u001b[0m \u001b[0mtorch\u001b[0m\u001b[0;34m.\u001b[0m\u001b[0mtensor\u001b[0m\u001b[0;34m(\u001b[0m\u001b[0mcategory_dict\u001b[0m\u001b[0;34m[\u001b[0m\u001b[0mlabel\u001b[0m\u001b[0;34m]\u001b[0m\u001b[0;34m,\u001b[0m \u001b[0mdtype\u001b[0m\u001b[0;34m=\u001b[0m\u001b[0mtorch\u001b[0m\u001b[0;34m.\u001b[0m\u001b[0mlong\u001b[0m\u001b[0;34m)\u001b[0m\u001b[0;34m.\u001b[0m\u001b[0mto\u001b[0m\u001b[0;34m(\u001b[0m\u001b[0mdevice\u001b[0m\u001b[0;34m)\u001b[0m\u001b[0;34m\u001b[0m\u001b[0;34m\u001b[0m\u001b[0m\n\u001b[1;32m     19\u001b[0m \u001b[0;34m\u001b[0m\u001b[0m\n",
            "\u001b[0;32m/usr/local/lib/python3.11/dist-packages/pandas/core/series.py\u001b[0m in \u001b[0;36munique\u001b[0;34m(self)\u001b[0m\n\u001b[1;32m   2405\u001b[0m         \u001b[0mCategories\u001b[0m \u001b[0;34m(\u001b[0m\u001b[0;36m3\u001b[0m\u001b[0;34m,\u001b[0m \u001b[0mobject\u001b[0m\u001b[0;34m)\u001b[0m\u001b[0;34m:\u001b[0m \u001b[0;34m[\u001b[0m\u001b[0;34m'a'\u001b[0m \u001b[0;34m<\u001b[0m \u001b[0;34m'b'\u001b[0m \u001b[0;34m<\u001b[0m \u001b[0;34m'c'\u001b[0m\u001b[0;34m]\u001b[0m\u001b[0;34m\u001b[0m\u001b[0;34m\u001b[0m\u001b[0m\n\u001b[1;32m   2406\u001b[0m         \"\"\"\n\u001b[0;32m-> 2407\u001b[0;31m         \u001b[0;32mreturn\u001b[0m \u001b[0msuper\u001b[0m\u001b[0;34m(\u001b[0m\u001b[0;34m)\u001b[0m\u001b[0;34m.\u001b[0m\u001b[0munique\u001b[0m\u001b[0;34m(\u001b[0m\u001b[0;34m)\u001b[0m\u001b[0;34m\u001b[0m\u001b[0;34m\u001b[0m\u001b[0m\n\u001b[0m\u001b[1;32m   2408\u001b[0m \u001b[0;34m\u001b[0m\u001b[0m\n\u001b[1;32m   2409\u001b[0m     \u001b[0;34m@\u001b[0m\u001b[0moverload\u001b[0m\u001b[0;34m\u001b[0m\u001b[0;34m\u001b[0m\u001b[0m\n",
            "\u001b[0;32m/usr/local/lib/python3.11/dist-packages/pandas/core/base.py\u001b[0m in \u001b[0;36munique\u001b[0;34m(self)\u001b[0m\n\u001b[1;32m   1023\u001b[0m             \u001b[0mresult\u001b[0m \u001b[0;34m=\u001b[0m \u001b[0mvalues\u001b[0m\u001b[0;34m.\u001b[0m\u001b[0munique\u001b[0m\u001b[0;34m(\u001b[0m\u001b[0;34m)\u001b[0m\u001b[0;34m\u001b[0m\u001b[0;34m\u001b[0m\u001b[0m\n\u001b[1;32m   1024\u001b[0m         \u001b[0;32melse\u001b[0m\u001b[0;34m:\u001b[0m\u001b[0;34m\u001b[0m\u001b[0;34m\u001b[0m\u001b[0m\n\u001b[0;32m-> 1025\u001b[0;31m             \u001b[0mresult\u001b[0m \u001b[0;34m=\u001b[0m \u001b[0malgorithms\u001b[0m\u001b[0;34m.\u001b[0m\u001b[0munique1d\u001b[0m\u001b[0;34m(\u001b[0m\u001b[0mvalues\u001b[0m\u001b[0;34m)\u001b[0m\u001b[0;34m\u001b[0m\u001b[0;34m\u001b[0m\u001b[0m\n\u001b[0m\u001b[1;32m   1026\u001b[0m         \u001b[0;32mreturn\u001b[0m \u001b[0mresult\u001b[0m\u001b[0;34m\u001b[0m\u001b[0;34m\u001b[0m\u001b[0m\n\u001b[1;32m   1027\u001b[0m \u001b[0;34m\u001b[0m\u001b[0m\n",
            "\u001b[0;32m/usr/local/lib/python3.11/dist-packages/pandas/core/algorithms.py\u001b[0m in \u001b[0;36munique\u001b[0;34m(values)\u001b[0m\n\u001b[1;32m    399\u001b[0m     \u001b[0marray\u001b[0m\u001b[0;34m(\u001b[0m\u001b[0;34m[\u001b[0m\u001b[0;34m(\u001b[0m\u001b[0;34m'a'\u001b[0m\u001b[0;34m,\u001b[0m \u001b[0;34m'b'\u001b[0m\u001b[0;34m)\u001b[0m\u001b[0;34m,\u001b[0m \u001b[0;34m(\u001b[0m\u001b[0;34m'b'\u001b[0m\u001b[0;34m,\u001b[0m \u001b[0;34m'a'\u001b[0m\u001b[0;34m)\u001b[0m\u001b[0;34m,\u001b[0m \u001b[0;34m(\u001b[0m\u001b[0;34m'a'\u001b[0m\u001b[0;34m,\u001b[0m \u001b[0;34m'c'\u001b[0m\u001b[0;34m)\u001b[0m\u001b[0;34m]\u001b[0m\u001b[0;34m,\u001b[0m \u001b[0mdtype\u001b[0m\u001b[0;34m=\u001b[0m\u001b[0mobject\u001b[0m\u001b[0;34m)\u001b[0m\u001b[0;34m\u001b[0m\u001b[0;34m\u001b[0m\u001b[0m\n\u001b[1;32m    400\u001b[0m     \"\"\"\n\u001b[0;32m--> 401\u001b[0;31m     \u001b[0;32mreturn\u001b[0m \u001b[0munique_with_mask\u001b[0m\u001b[0;34m(\u001b[0m\u001b[0mvalues\u001b[0m\u001b[0;34m)\u001b[0m\u001b[0;34m\u001b[0m\u001b[0;34m\u001b[0m\u001b[0m\n\u001b[0m\u001b[1;32m    402\u001b[0m \u001b[0;34m\u001b[0m\u001b[0m\n\u001b[1;32m    403\u001b[0m \u001b[0;34m\u001b[0m\u001b[0m\n",
            "\u001b[0;32m/usr/local/lib/python3.11/dist-packages/pandas/core/algorithms.py\u001b[0m in \u001b[0;36munique_with_mask\u001b[0;34m(values, mask)\u001b[0m\n\u001b[1;32m    438\u001b[0m     \u001b[0mtable\u001b[0m \u001b[0;34m=\u001b[0m \u001b[0mhashtable\u001b[0m\u001b[0;34m(\u001b[0m\u001b[0mlen\u001b[0m\u001b[0;34m(\u001b[0m\u001b[0mvalues\u001b[0m\u001b[0;34m)\u001b[0m\u001b[0;34m)\u001b[0m\u001b[0;34m\u001b[0m\u001b[0;34m\u001b[0m\u001b[0m\n\u001b[1;32m    439\u001b[0m     \u001b[0;32mif\u001b[0m \u001b[0mmask\u001b[0m \u001b[0;32mis\u001b[0m \u001b[0;32mNone\u001b[0m\u001b[0;34m:\u001b[0m\u001b[0;34m\u001b[0m\u001b[0;34m\u001b[0m\u001b[0m\n\u001b[0;32m--> 440\u001b[0;31m         \u001b[0muniques\u001b[0m \u001b[0;34m=\u001b[0m \u001b[0mtable\u001b[0m\u001b[0;34m.\u001b[0m\u001b[0munique\u001b[0m\u001b[0;34m(\u001b[0m\u001b[0mvalues\u001b[0m\u001b[0;34m)\u001b[0m\u001b[0;34m\u001b[0m\u001b[0;34m\u001b[0m\u001b[0m\n\u001b[0m\u001b[1;32m    441\u001b[0m         \u001b[0muniques\u001b[0m \u001b[0;34m=\u001b[0m \u001b[0m_reconstruct_data\u001b[0m\u001b[0;34m(\u001b[0m\u001b[0muniques\u001b[0m\u001b[0;34m,\u001b[0m \u001b[0moriginal\u001b[0m\u001b[0;34m.\u001b[0m\u001b[0mdtype\u001b[0m\u001b[0;34m,\u001b[0m \u001b[0moriginal\u001b[0m\u001b[0;34m)\u001b[0m\u001b[0;34m\u001b[0m\u001b[0;34m\u001b[0m\u001b[0m\n\u001b[1;32m    442\u001b[0m         \u001b[0;32mreturn\u001b[0m \u001b[0muniques\u001b[0m\u001b[0;34m\u001b[0m\u001b[0;34m\u001b[0m\u001b[0m\n",
            "\u001b[0;31mKeyboardInterrupt\u001b[0m: "
          ]
        }
      ],
      "source": [
        "# Définir un optimiseur et une fonction de perte\n",
        "optimizer = optim.Adam(cnn_model.parameters(), lr=0.001)\n",
        "criterion = nn.CrossEntropyLoss()\n",
        "\n",
        "# Entraînement du modèle\n",
        "num_epochs = 5\n",
        "losses = []\n",
        "\n",
        "for epoch in range(num_epochs):\n",
        "    total_loss = 0\n",
        "    for images, labels in train_loader:\n",
        "        optimizer.zero_grad()\n",
        "        outputs = cnn_model(images)  # On extrait les features\n",
        "        loss = criterion(outputs, labels)  # On apprend à séparer les classes\n",
        "        loss.backward()\n",
        "        optimizer.step()\n",
        "        total_loss += loss.item()\n",
        "\n",
        "    print(f\"Epoch {epoch+1}, Loss: {total_loss/len(train_loader)}\")\n",
        "    losses.append(total_loss/len(train_loader))\n",
        "\n",
        "# Sauvegarde du modèle entraîné\n",
        "torch.save(cnn_model.state_dict(), \"Learning_representation/src/models/fusion_model/quickdraw_cnn_10000.pth\")\n",
        "print(\"✅ Entraînement terminé et modèle sauvegardé.\")\n"
      ]
    },
    {
      "cell_type": "code",
      "execution_count": null,
      "metadata": {
        "colab": {
          "base_uri": "https://localhost:8080/",
          "height": 472
        },
        "id": "CQ0308y7cXh5",
        "outputId": "87f2177b-13a4-41d7-dc61-2a79efe689fc"
      },
      "outputs": [
        {
          "data": {
            "image/png": "[encoded data removed]",
            "text/plain": [
              "<Figure size 640x480 with 1 Axes>"
            ]
          },
          "metadata": {},
          "output_type": "display_data"
        }
      ],
      "source": [
        "plt.plot(losses)\n",
        "plt.xlabel(\"Epoch\")\n",
        "plt.ylabel(\"Loss\")\n",
        "plt.title(\"Loss during Training\")\n",
        "plt.show()"
      ]
    },
    {
      "cell_type": "code",
      "execution_count": 6,
      "metadata": {
        "colab": {
          "base_uri": "https://localhost:8080/"
        },
        "id": "78nxtCwnHPlm",
        "outputId": "7609960a-71df-489e-9648-f4880b9643b4"
      },
      "outputs": [
        {
          "ename": "FileNotFoundError",
          "evalue": "[Errno 2] No such file or directory: 'Learning_representation\\\\src\\\\models\\x0cusion_model\\\\quickdraw_cnn_10000.pth'",
          "output_type": "error",
          "traceback": [
            "\u001b[31m---------------------------------------------------------------------------\u001b[39m",
            "\u001b[31mFileNotFoundError\u001b[39m                         Traceback (most recent call last)",
            "\u001b[36mCell\u001b[39m\u001b[36m \u001b[39m\u001b[32mIn[6]\u001b[39m\u001b[32m, line 2\u001b[39m\n\u001b[32m      1\u001b[39m \u001b[38;5;66;03m# Charger le modèle entraîné\u001b[39;00m\n\u001b[32m----> \u001b[39m\u001b[32m2\u001b[39m cnn_model.load_state_dict(\u001b[43mtorch\u001b[49m\u001b[43m.\u001b[49m\u001b[43mload\u001b[49m\u001b[43m(\u001b[49m\u001b[33;43m\"\u001b[39;49m\u001b[33;43mLearning_representation\u001b[39;49m\u001b[33;43m\\\u001b[39;49m\u001b[33;43msrc\u001b[39;49m\u001b[33;43m\\\u001b[39;49m\u001b[33;43mmodels\u001b[39;49m\u001b[38;5;130;43;01m\\f\u001b[39;49;00m\u001b[33;43musion_model\u001b[39;49m\u001b[33;43m\\\u001b[39;49m\u001b[33;43mquickdraw_cnn_10000.pth\u001b[39;49m\u001b[33;43m\"\u001b[39;49m\u001b[43m,\u001b[49m\u001b[43m \u001b[49m\u001b[43mmap_location\u001b[49m\u001b[43m=\u001b[49m\u001b[43mtorch\u001b[49m\u001b[43m.\u001b[49m\u001b[43mdevice\u001b[49m\u001b[43m(\u001b[49m\u001b[33;43m'\u001b[39;49m\u001b[33;43mcpu\u001b[39;49m\u001b[33;43m'\u001b[39;49m\u001b[43m)\u001b[49m\u001b[43m)\u001b[49m)\n\u001b[32m      3\u001b[39m cnn_model.eval()\n\u001b[32m      5\u001b[39m \u001b[38;5;66;03m# Extraire les features d’une image\u001b[39;00m\n",
            "\u001b[36mFile \u001b[39m\u001b[32mc:\\Users\\benfl\\OneDrive\\Documents\\ISIMA\\3eme année\\Master ICS\\Project research\\.venv\\Lib\\site-packages\\torch\\serialization.py:1425\u001b[39m, in \u001b[36mload\u001b[39m\u001b[34m(f, map_location, pickle_module, weights_only, mmap, **pickle_load_args)\u001b[39m\n\u001b[32m   1422\u001b[39m \u001b[38;5;28;01mif\u001b[39;00m \u001b[33m\"\u001b[39m\u001b[33mencoding\u001b[39m\u001b[33m\"\u001b[39m \u001b[38;5;129;01mnot\u001b[39;00m \u001b[38;5;129;01min\u001b[39;00m pickle_load_args.keys():\n\u001b[32m   1423\u001b[39m     pickle_load_args[\u001b[33m\"\u001b[39m\u001b[33mencoding\u001b[39m\u001b[33m\"\u001b[39m] = \u001b[33m\"\u001b[39m\u001b[33mutf-8\u001b[39m\u001b[33m\"\u001b[39m\n\u001b[32m-> \u001b[39m\u001b[32m1425\u001b[39m \u001b[38;5;28;01mwith\u001b[39;00m \u001b[43m_open_file_like\u001b[49m\u001b[43m(\u001b[49m\u001b[43mf\u001b[49m\u001b[43m,\u001b[49m\u001b[43m \u001b[49m\u001b[33;43m\"\u001b[39;49m\u001b[33;43mrb\u001b[39;49m\u001b[33;43m\"\u001b[39;49m\u001b[43m)\u001b[49m \u001b[38;5;28;01mas\u001b[39;00m opened_file:\n\u001b[32m   1426\u001b[39m     \u001b[38;5;28;01mif\u001b[39;00m _is_zipfile(opened_file):\n\u001b[32m   1427\u001b[39m         \u001b[38;5;66;03m# The zipfile reader is going to advance the current file position.\u001b[39;00m\n\u001b[32m   1428\u001b[39m         \u001b[38;5;66;03m# If we want to actually tail call to torch.jit.load, we need to\u001b[39;00m\n\u001b[32m   1429\u001b[39m         \u001b[38;5;66;03m# reset back to the original position.\u001b[39;00m\n\u001b[32m   1430\u001b[39m         orig_position = opened_file.tell()\n",
            "\u001b[36mFile \u001b[39m\u001b[32mc:\\Users\\benfl\\OneDrive\\Documents\\ISIMA\\3eme année\\Master ICS\\Project research\\.venv\\Lib\\site-packages\\torch\\serialization.py:751\u001b[39m, in \u001b[36m_open_file_like\u001b[39m\u001b[34m(name_or_buffer, mode)\u001b[39m\n\u001b[32m    749\u001b[39m \u001b[38;5;28;01mdef\u001b[39;00m\u001b[38;5;250m \u001b[39m\u001b[34m_open_file_like\u001b[39m(name_or_buffer, mode):\n\u001b[32m    750\u001b[39m     \u001b[38;5;28;01mif\u001b[39;00m _is_path(name_or_buffer):\n\u001b[32m--> \u001b[39m\u001b[32m751\u001b[39m         \u001b[38;5;28;01mreturn\u001b[39;00m \u001b[43m_open_file\u001b[49m\u001b[43m(\u001b[49m\u001b[43mname_or_buffer\u001b[49m\u001b[43m,\u001b[49m\u001b[43m \u001b[49m\u001b[43mmode\u001b[49m\u001b[43m)\u001b[49m\n\u001b[32m    752\u001b[39m     \u001b[38;5;28;01melse\u001b[39;00m:\n\u001b[32m    753\u001b[39m         \u001b[38;5;28;01mif\u001b[39;00m \u001b[33m\"\u001b[39m\u001b[33mw\u001b[39m\u001b[33m\"\u001b[39m \u001b[38;5;129;01min\u001b[39;00m mode:\n",
            "\u001b[36mFile \u001b[39m\u001b[32mc:\\Users\\benfl\\OneDrive\\Documents\\ISIMA\\3eme année\\Master ICS\\Project research\\.venv\\Lib\\site-packages\\torch\\serialization.py:732\u001b[39m, in \u001b[36m_open_file.__init__\u001b[39m\u001b[34m(self, name, mode)\u001b[39m\n\u001b[32m    731\u001b[39m \u001b[38;5;28;01mdef\u001b[39;00m\u001b[38;5;250m \u001b[39m\u001b[34m__init__\u001b[39m(\u001b[38;5;28mself\u001b[39m, name, mode):\n\u001b[32m--> \u001b[39m\u001b[32m732\u001b[39m     \u001b[38;5;28msuper\u001b[39m().\u001b[34m__init__\u001b[39m(\u001b[38;5;28;43mopen\u001b[39;49m\u001b[43m(\u001b[49m\u001b[43mname\u001b[49m\u001b[43m,\u001b[49m\u001b[43m \u001b[49m\u001b[43mmode\u001b[49m\u001b[43m)\u001b[49m)\n",
            "\u001b[31mFileNotFoundError\u001b[39m: [Errno 2] No such file or directory: 'Learning_representation\\\\src\\\\models\\x0cusion_model\\\\quickdraw_cnn_10000.pth'"
          ]
        }
      ],
      "source": [
        "# Charger le modèle entraîné\n",
        "cnn_model.load_state_dict(torch.load(\"Learning_representation\\src\\models\\fusion_model\\quickdraw_cnn_10000.pth\", map_location=torch.device('cpu')))\n",
        "cnn_model.eval()\n",
        "\n",
        "# Extraire les features d’une image\n",
        "def extract_image_features(image_vector):\n",
        "    image_tensor = torch.tensor(image_vector, dtype=torch.float32).view(1, 1, 28, 28).to(device)\n",
        "    features = cnn_model(image_tensor).cpu().detach().numpy().reshape(128)\n",
        "    return features\n",
        "\n",
        "# Exemple d’extraction\n",
        "image_features = extract_image_features(df.iloc[0][\"image\"])\n",
        "print(\"Features extraites :\", image_features, image_features.shape, df.iloc[0][\"Catégorie\"])  # (128,)"
      ]
    },
    {
      "cell_type": "markdown",
      "metadata": {
        "id": "66gpWAgRboyr"
      },
      "source": [
        "Préparation pour les questions"
      ]
    },
    {
      "cell_type": "code",
      "execution_count": null,
      "metadata": {
        "colab": {
          "base_uri": "https://localhost:8080/"
        },
        "id": "xsXuFOOHVEVQ",
        "outputId": "cc40b9e8-993b-42ab-f4d5-5bcc15f7921f"
      },
      "outputs": [
        {
          "name": "stdout",
          "output_type": "stream",
          "text": [
            "0\n",
            "S'agit-il d'un avion ?\n",
            "airplane\n"
          ]
        }
      ],
      "source": [
        "# Différents modèles de questions\n",
        "QUESTION_TEMPLATES = [\n",
        "    \"Peux-tu me dire si c'est un {} ?\",\n",
        "    \"Est-ce un {} sur l'image ?\",\n",
        "    \"L'image contient-elle un {} ?\",\n",
        "    \"Y a-t-il un {} ici ?\",\n",
        "    \"Ce dessin représente-t-il un {} ?\",\n",
        "    \"On dirait un {}, non ?\",\n",
        "    \"S'agit-il d'un {} ?\",\n",
        "]\n",
        "switcher = {\n",
        "        \"airplane\": \"avion\",\n",
        "        \"backpack\": \"sac\",\n",
        "        \"car\": \"voiture\",\n",
        "        \"coffee_cup\": \"tasse\",\n",
        "        \"sailboat\": \"bateau\",\n",
        "    }\n",
        "\n",
        "# Fonction pour générer une question aléatoire avec une catégorie aléatoire\n",
        "def generate_random_question(true_category):\n",
        "    category = random.choice(categories)  # Choisir une catégorie au hasard\n",
        "    if category == true_category:\n",
        "        category = true_category\n",
        "    else:\n",
        "        category = random.choice([category, true_category])\n",
        "    template = random.choice(QUESTION_TEMPLATES)  # Choisir un modèle de phrase au hasard\n",
        "\n",
        "    category_fr = switcher.get(category)\n",
        "    return template.format(category_fr), category # return question and category\n",
        "\n",
        "# Exemple\n",
        "true_category = \"airplane\"\n",
        "correct = 0\n",
        "for i in range(100):\n",
        "    question, category = generate_random_question(true_category)\n",
        "    if category==switcher.get(true_category):\n",
        "      correct += 1\n",
        "print(correct)\n",
        "print(question)  # Exemple : \"L'image contient-elle un avion ?\"\n",
        "print(category)"
      ]
    },
    {
      "cell_type": "code",
      "execution_count": null,
      "metadata": {
        "id": "kDUIlwt3pq3n"
      },
      "outputs": [],
      "source": [
        "# Charger Word2Vec français\n",
        "w2v_model = Word2Vec.load(\"/content/drive/MyDrive/data/word2vec_fr.model\")"
      ]
    },
    {
      "cell_type": "code",
      "execution_count": null,
      "metadata": {
        "colab": {
          "base_uri": "https://localhost:8080/"
        },
        "id": "SILxS2epecaA",
        "outputId": "80887991-4218-4de8-e51e-20d087a53199"
      },
      "outputs": [
        {
          "name": "stdout",
          "output_type": "stream",
          "text": [
            "Feature de la question : (200,)\n"
          ]
        }
      ],
      "source": [
        "# Fonction pour encoder une question\n",
        "def encode_question(question):\n",
        "    words = simple_preprocess(question) #convert a document into a list of token.\n",
        "    vectors = [w2v_model.wv[word] for word in words if word in w2v_model.wv]\n",
        "    return np.mean(vectors, axis=0) if vectors else np.zeros(w2v_model.vector_size)\n",
        "\n",
        "# Exemple\n",
        "question = \"Y a-t-il un avion ici ?\"\n",
        "question_vector = encode_question(question)\n",
        "print(\"Feature de la question :\", question_vector.shape)  # (200,)"
      ]
    },
    {
      "cell_type": "code",
      "execution_count": null,
      "metadata": {
        "colab": {
          "base_uri": "https://localhost:8080/"
        },
        "id": "c5AbCY_H08Ep",
        "outputId": "29cd06c9-fd82-4361-edf0-a6cede685fef"
      },
      "outputs": [
        {
          "data": {
            "text/plain": [
              "array([ 0.00272746,  0.06602395, -0.26932818,  0.10114794,  0.28034687,\n",
              "        0.06845938, -0.00122004,  0.24516307, -0.04343077,  0.07277447,\n",
              "        0.04674248, -0.08564941, -0.00320707,  0.07200033, -0.12434546,\n",
              "        0.06706577,  0.05442839,  0.02495342,  0.0833896 , -0.13916346,\n",
              "        0.2650067 ,  0.09619659, -0.1336218 ,  0.2152271 ,  0.05628897,\n",
              "       -0.10684311,  0.22260942, -0.02127656, -0.12138797, -0.13682073,\n",
              "        0.14765865,  0.07116849,  0.08414655, -0.08956841, -0.11778244,\n",
              "        0.1152393 ,  0.04910883, -0.0385779 , -0.19391945, -0.18964496,\n",
              "        0.00816011,  0.051631  ,  0.00076946,  0.00359763,  0.43310565,\n",
              "       -0.11505294, -0.12696707, -0.24198228,  0.10511582,  0.04275013,\n",
              "       -0.04533782, -0.19847307,  0.092427  , -0.07590869,  0.05930341,\n",
              "        0.0451446 ,  0.10302873, -0.02906586, -0.09844859,  0.0787701 ,\n",
              "       -0.09730877, -0.26598486,  0.15185198, -0.01894697, -0.37065083,\n",
              "        0.12498738, -0.06332979, -0.05087268, -0.03173362,  0.2577038 ,\n",
              "        0.0403903 ,  0.15424903,  0.10851035,  0.07254359,  0.16869393,\n",
              "        0.06917103,  0.1118116 ,  0.01393482, -0.13005349, -0.15686584,\n",
              "       -0.32126552, -0.05218597, -0.06569074, -0.13225013, -0.18948337,\n",
              "       -0.1291289 ,  0.15528703, -0.0019861 , -0.05970378,  0.08801126,\n",
              "        0.28979278, -0.09516776,  0.10167019,  0.09127195,  0.17752878,\n",
              "       -0.11604477,  0.13243389, -0.00243128,  0.06036281,  0.20672151,\n",
              "       -0.13700494,  0.06136415,  0.09813906, -0.18092713, -0.04338773,\n",
              "       -0.32045782,  0.09170228,  0.03514991, -0.30440378, -0.2087387 ,\n",
              "        0.05857217, -0.21119012, -0.06664098, -0.01848887,  0.30596274,\n",
              "       -0.04892771, -0.1326796 , -0.26389977,  0.02917437, -0.21654764,\n",
              "       -0.15252742, -0.09146414, -0.05889117, -0.21133068,  0.04032239,\n",
              "        0.08623627, -0.04040098,  0.05094425, -0.06180106, -0.06641385,\n",
              "        0.2744437 , -0.01355348,  0.05574396,  0.01699593,  0.04941822,\n",
              "        0.19733909,  0.04857375, -0.00696594, -0.16328502, -0.00154866,\n",
              "        0.24209581, -0.11346611, -0.03775911, -0.09508186, -0.07515384,\n",
              "       -0.10638697, -0.3376009 ,  0.10647473, -0.07035506,  0.09690677,\n",
              "       -0.09261664,  0.07869956,  0.09532578,  0.31748405, -0.15917057,\n",
              "       -0.0463266 ,  0.17259307,  0.26340657,  0.14708284,  0.32123244,\n",
              "        0.22137913,  0.13215142, -0.13169926,  0.05284129,  0.20215729,\n",
              "        0.03195076,  0.09570552,  0.0438755 ,  0.18127307, -0.07096573,\n",
              "       -0.02635108, -0.04052475,  0.14747497,  0.01787233,  0.26072   ,\n",
              "        0.08691283, -0.00056231, -0.07374243,  0.10419726,  0.2508093 ,\n",
              "       -0.24237284, -0.03648897, -0.0132168 ,  0.0326717 , -0.0245845 ,\n",
              "       -0.04130292, -0.06437246,  0.21779105,  0.12904349, -0.05815752,\n",
              "        0.01111554, -0.00602163, -0.12800212,  0.06486963,  0.02689666,\n",
              "       -0.09786388,  0.09033519, -0.3001979 , -0.1126824 ,  0.02198523],\n",
              "      dtype=float32)"
            ]
          },
          "execution_count": 15,
          "metadata": {},
          "output_type": "execute_result"
        }
      ],
      "source": [
        "question_vector"
      ]
    },
    {
      "cell_type": "markdown",
      "metadata": {
        "id": "-wqRYUPcbtMK"
      },
      "source": [
        "# Fusion des 2 représentation"
      ]
    },
    {
      "cell_type": "code",
      "execution_count": null,
      "metadata": {
        "colab": {
          "base_uri": "https://localhost:8080/"
        },
        "id": "cwZMYqDMegO_",
        "outputId": "195ff80a-4522-4fbe-d9bf-a5d5b50b956b"
      },
      "outputs": [
        {
          "name": "stdout",
          "output_type": "stream",
          "text": [
            "[ 9.48033333e+00 -2.66206056e-01 -1.38349259e+00 -4.00473452e+00\n",
            " -1.09329357e+01 -2.65725060e+01 -2.81391087e+01 -2.54980927e+01\n",
            " -2.63679886e+01 -2.27633839e+01 -2.72456760e+01 -2.65028381e+01\n",
            " -2.56929226e+01 -2.53619614e+01 -2.47661266e+01 -2.55744610e+01\n",
            " -2.62582035e+01 -2.54221764e+01 -2.54627018e+01 -2.59321060e+01\n",
            " -2.47219715e+01 -2.93968887e+01 -2.62536545e+01 -1.78860912e+01\n",
            " -2.66246262e+01 -2.47648830e+01 -2.50328789e+01 -2.59680138e+01\n",
            " -2.64421329e+01 -2.33317661e+01 -2.54773674e+01 -2.52275734e+01\n",
            " -2.43774319e+01 -2.63462887e+01 -2.62807522e+01 -2.57707520e+01\n",
            " -2.54111881e+01 -2.63455925e+01 -2.61349754e+01 -2.55986862e+01\n",
            " -2.65164509e+01 -2.59528885e+01 -2.46971855e+01 -2.52837448e+01\n",
            " -2.47977886e+01 -2.64092636e+01 -2.49571705e+01 -2.59140949e+01\n",
            " -2.65296860e+01 -2.57618141e+01 -2.63829594e+01 -2.58278999e+01\n",
            " -1.65468864e+01 -2.49467964e+01 -2.53504543e+01 -2.52105484e+01\n",
            " -2.44671650e+01 -2.58402939e+01 -2.54711189e+01 -2.13137131e+01\n",
            " -2.38418198e+01 -2.62518406e+01 -2.57448597e+01 -1.96472054e+01\n",
            " -2.61112442e+01 -2.53728542e+01 -2.56164036e+01 -2.63964615e+01\n",
            " -2.59486237e+01 -2.50421753e+01 -2.56639366e+01 -1.83259354e+01\n",
            " -1.69193840e+01 -2.57708530e+01 -2.52479610e+01 -2.62132530e+01\n",
            " -2.63625526e+01 -2.52977486e+01 -2.53997593e+01 -2.20096931e+01\n",
            " -2.45478439e+01 -2.31429615e+01 -2.53628387e+01 -2.54946098e+01\n",
            " -2.31887341e+01 -2.54259338e+01 -2.60129433e+01 -2.53662682e+01\n",
            " -2.55314274e+01 -2.54865589e+01 -2.63619061e+01 -2.56558914e+01\n",
            " -2.53135319e+01 -2.52319584e+01 -2.55549755e+01 -2.63052769e+01\n",
            " -2.53817635e+01 -2.55853901e+01 -2.58386459e+01 -1.52711611e+01\n",
            " -2.49955692e+01 -2.61313763e+01 -2.60622864e+01 -2.63455944e+01\n",
            " -2.13848286e+01 -2.57376995e+01 -2.48213348e+01 -2.59630146e+01\n",
            " -2.15299168e+01 -1.69115582e+01 -2.53961830e+01 -2.62300949e+01\n",
            " -2.57341576e+01 -2.54452915e+01 -1.53960342e+01 -2.65450287e+01\n",
            " -2.52738152e+01 -2.58395844e+01 -2.60938950e+01 -2.65025387e+01\n",
            " -2.53218822e+01 -2.49134636e+01 -1.86689301e+01 -2.56410007e+01\n",
            " -2.67984657e+01 -2.30693779e+01 -2.58220234e+01 -2.37772884e+01\n",
            "  2.72746384e-03  6.60239458e-02 -2.69328177e-01  1.01147942e-01\n",
            "  2.80346870e-01  6.84593767e-02 -1.22004375e-03  2.45163068e-01\n",
            " -4.34307680e-02  7.27744699e-02  4.67424840e-02 -8.56494084e-02\n",
            " -3.20706703e-03  7.20003322e-02 -1.24345459e-01  6.70657679e-02\n",
            "  5.44283874e-02  2.49534231e-02  8.33896026e-02 -1.39163464e-01\n",
            "  2.65006691e-01  9.61965919e-02 -1.33621797e-01  2.15227097e-01\n",
            "  5.62889650e-02 -1.06843114e-01  2.22609416e-01 -2.12765578e-02\n",
            " -1.21387966e-01 -1.36820734e-01  1.47658646e-01  7.11684898e-02\n",
            "  8.41465518e-02 -8.95684138e-02 -1.17782444e-01  1.15239300e-01\n",
            "  4.91088293e-02 -3.85778956e-02 -1.93919450e-01 -1.89644963e-01\n",
            "  8.16011429e-03  5.16309962e-02  7.69458711e-04  3.59762507e-03\n",
            "  4.33105648e-01 -1.15052938e-01 -1.26967072e-01 -2.41982281e-01\n",
            "  1.05115816e-01  4.27501276e-02 -4.53378186e-02 -1.98473066e-01\n",
            "  9.24270004e-02 -7.59086907e-02  5.93034104e-02  4.51445989e-02\n",
            "  1.03028730e-01 -2.90658604e-02 -9.84485894e-02  7.87701011e-02\n",
            " -9.73087698e-02 -2.65984863e-01  1.51851982e-01 -1.89469736e-02\n",
            " -3.70650828e-01  1.24987379e-01 -6.33297861e-02 -5.08726835e-02\n",
            " -3.17336246e-02  2.57703811e-01  4.03902978e-02  1.54249027e-01\n",
            "  1.08510353e-01  7.25435913e-02  1.68693930e-01  6.91710338e-02\n",
            "  1.11811601e-01  1.39348209e-02 -1.30053490e-01 -1.56865835e-01\n",
            " -3.21265519e-01 -5.21859676e-02 -6.56907409e-02 -1.32250130e-01\n",
            " -1.89483374e-01 -1.29128903e-01  1.55287027e-01 -1.98610313e-03\n",
            " -5.97037822e-02  8.80112648e-02  2.89792776e-01 -9.51677561e-02\n",
            "  1.01670191e-01  9.12719518e-02  1.77528784e-01 -1.16044767e-01\n",
            "  1.32433891e-01 -2.43128277e-03  6.03628084e-02  2.06721514e-01\n",
            " -1.37004942e-01  6.13641478e-02  9.81390625e-02 -1.80927128e-01\n",
            " -4.33877297e-02 -3.20457816e-01  9.17022824e-02  3.51499058e-02\n",
            " -3.04403782e-01 -2.08738700e-01  5.85721731e-02 -2.11190119e-01\n",
            " -6.66409805e-02 -1.84888653e-02  3.05962741e-01 -4.89277132e-02\n",
            " -1.32679597e-01 -2.63899773e-01  2.91743688e-02 -2.16547638e-01\n",
            " -1.52527422e-01 -9.14641395e-02 -5.88911697e-02 -2.11330682e-01\n",
            "  4.03223857e-02  8.62362683e-02 -4.04009819e-02  5.09442538e-02\n",
            " -6.18010648e-02 -6.64138496e-02  2.74443686e-01 -1.35534806e-02\n",
            "  5.57439551e-02  1.69959292e-02  4.94182222e-02  1.97339088e-01\n",
            "  4.85737547e-02 -6.96594175e-03 -1.63285017e-01 -1.54865533e-03\n",
            "  2.42095813e-01 -1.13466106e-01 -3.77591103e-02 -9.50818583e-02\n",
            " -7.51538426e-02 -1.06386974e-01 -3.37600887e-01  1.06474727e-01\n",
            " -7.03550577e-02  9.69067737e-02 -9.26166400e-02  7.86995590e-02\n",
            "  9.53257829e-02  3.17484051e-01 -1.59170568e-01 -4.63266000e-02\n",
            "  1.72593072e-01  2.63406575e-01  1.47082835e-01  3.21232438e-01\n",
            "  2.21379131e-01  1.32151425e-01 -1.31699264e-01  5.28412908e-02\n",
            "  2.02157289e-01  3.19507569e-02  9.57055166e-02  4.38754968e-02\n",
            "  1.81273073e-01 -7.09657297e-02 -2.63510831e-02 -4.05247472e-02\n",
            "  1.47474974e-01  1.78723335e-02  2.60720015e-01  8.69128257e-02\n",
            " -5.62309287e-04 -7.37424344e-02  1.04197264e-01  2.50809312e-01\n",
            " -2.42372841e-01 -3.64889652e-02 -1.32168047e-02  3.26716974e-02\n",
            " -2.45845001e-02 -4.13029157e-02 -6.43724576e-02  2.17791051e-01\n",
            "  1.29043490e-01 -5.81575222e-02  1.11155408e-02 -6.02162816e-03\n",
            " -1.28002122e-01  6.48696348e-02  2.68966649e-02 -9.78638753e-02\n",
            "  9.03351903e-02 -3.00197899e-01 -1.12682402e-01  2.19852328e-02] (328,)\n"
          ]
        }
      ],
      "source": [
        "# Fusion des features d’image et de texte\n",
        "def fuse_features(image_features, question_features):\n",
        "    return np.concatenate((image_features, question_features))  # (128 + 200 = 328D)\n",
        "\n",
        "input = fuse_features(image_features, question_vector)\n",
        "print(input, input.shape)"
      ]
    },
    {
      "cell_type": "markdown",
      "metadata": {
        "id": "GggOH5zzbw1r"
      },
      "source": [
        "# MLP classifier"
      ]
    },
    {
      "cell_type": "code",
      "execution_count": null,
      "metadata": {
        "id": "4IJI3_-fejp4"
      },
      "outputs": [],
      "source": [
        "class MLPClassifier(nn.Module):\n",
        "    def __init__(self):\n",
        "        super(MLPClassifier, self).__init__()\n",
        "        self.fc1 = nn.Linear(328, 164)  # Input : 328D (Image + Question)\n",
        "        self.relu = nn.ReLU()\n",
        "        self.fc = nn.Linear(164, 164)\n",
        "        self.fc2 = nn.Linear(164, 62)\n",
        "        self.fc3 = nn.Linear(62, 2)  # Sortie : 2 classes (Oui/Non)\n",
        "\n",
        "    def forward(self, x):\n",
        "        x = self.fc1(x)\n",
        "        x = self.relu(x)\n",
        "        for a in range(2):\n",
        "            x = self.fc(x)\n",
        "            x = self.relu(x)\n",
        "        x = self.fc2(x)\n",
        "        x = self.relu(x)\n",
        "        x = self.fc3(x)\n",
        "        return x  # Pas de softmax, car on utilise CrossEntropyLoss\n",
        "\n",
        "# Initialisation du MLP\n",
        "mlp_model = MLPClassifier().to(device)"
      ]
    },
    {
      "cell_type": "markdown",
      "metadata": {
        "id": "vFVS1QS4b3IT"
      },
      "source": [
        "# Entrainement du modèle MLP"
      ]
    },
    {
      "cell_type": "code",
      "execution_count": null,
      "metadata": {
        "colab": {
          "base_uri": "https://localhost:8080/"
        },
        "id": "aN10k54mIgDx",
        "outputId": "873645a8-e025-488c-c927-111d937a58ba"
      },
      "outputs": [
        {
          "name": "stdout",
          "output_type": "stream",
          "text": [
            "✅ Dataset d'entrainement MLP prêt avec 40000 exemples.\n",
            "✅ Dataset d'évaluation MLP prêt avec 10000 exemples.\n"
          ]
        },
        {
          "name": "stderr",
          "output_type": "stream",
          "text": [
            "<ipython-input-18-810768bd77dc>:30: UserWarning: Creating a tensor from a list of numpy.ndarrays is extremely slow. Please consider converting the list to a single numpy.ndarray with numpy.array() before converting to a tensor. (Triggered internally at ../torch/csrc/utils/tensor_new.cpp:278.)\n",
            "  X = torch.tensor(X_train, dtype=torch.float32).to(device)\n"
          ]
        }
      ],
      "source": [
        "# Modification de la boucle d'entraînement du MLP\n",
        "X_train = []\n",
        "y_train = []\n",
        "\n",
        "# Construire le dataset pour le MLP\n",
        "for _, row in df.iterrows():\n",
        "    image_vector = row[\"image\"]\n",
        "    true_category = row[\"Catégorie\"] # Stock la vraie catégorie\n",
        "\n",
        "    # Extraire les features de l’image\n",
        "    image_features = extract_image_features(image_vector)\n",
        "\n",
        "    # Générer une question aléatoire avec une catégorie aléatoire\n",
        "    question, question_category = generate_random_question(true_category)\n",
        "\n",
        "    # Encoder la question avec Word2Vec\n",
        "    question_features = encode_question(question)\n",
        "\n",
        "    # Fusionner\n",
        "    joint_representation = fuse_features(image_features, question_features)\n",
        "\n",
        "    # Définir la réponse (Oui = 1 si c'est la bonne catégorie, sinon Non = 0)\n",
        "    is_correct_category = (true_category == question_category)  # Comparer avec la vraie catégorie\n",
        "    label = 1 if is_correct_category else 0\n",
        "\n",
        "    X_train.append(joint_representation)\n",
        "    y_train.append(label)\n",
        "\n",
        "# Convertir en tensors\n",
        "X = torch.tensor(X_train, dtype=torch.float32).to(device)\n",
        "y = torch.tensor(y_train, dtype=torch.long).to(device)\n",
        "\n",
        "x_train, x_test, y_train, y_test = train_test_split(X, y, test_size=0.2, random_state=42)\n",
        "print(f\"✅ Dataset d'entrainement MLP prêt avec {len(x_train)} exemples.\")\n",
        "print(f\"✅ Dataset d'évaluation MLP prêt avec {len(x_test)} exemples.\")"
      ]
    },
    {
      "cell_type": "code",
      "execution_count": null,
      "metadata": {
        "colab": {
          "base_uri": "https://localhost:8080/"
        },
        "id": "pl3IIEO-FXjc",
        "outputId": "d3dc9adc-ed68-42d3-efeb-d1fd1831c35b"
      },
      "outputs": [
        {
          "name": "stdout",
          "output_type": "stream",
          "text": [
            "Avant équilibrage : Counter({1: 24056, 0: 15944})\n",
            "✅ Poids des classes : Non=0.60, Oui=0.40\n"
          ]
        }
      ],
      "source": [
        "# Compter le nombre de Oui et Non\n",
        "counter = Counter(y_train.cpu().numpy())\n",
        "print(f\"Avant équilibrage : {counter}\")\n",
        "\n",
        "num_yes = (y_train == 1).sum().item()\n",
        "num_no = (y_train == 0).sum().item()\n",
        "\n",
        "# Calculer les poids inverses (moins d'exemples = poids plus fort)\n",
        "weight_no = num_yes / (num_no + num_yes)\n",
        "weight_yes = num_no / (num_no + num_yes)\n",
        "\n",
        "weights = torch.tensor([weight_no, weight_yes], dtype=torch.float32)\n",
        "criterion = nn.CrossEntropyLoss(weight=weights)\n",
        "\n",
        "print(f\"✅ Poids des classes : Non={weight_no:.2f}, Oui={weight_yes:.2f}\")"
      ]
    },
    {
      "cell_type": "code",
      "execution_count": null,
      "metadata": {
        "colab": {
          "base_uri": "https://localhost:8080/"
        },
        "id": "TTeeWiCGetFw",
        "outputId": "16afa63c-f074-445b-83c7-a1317129146f"
      },
      "outputs": [
        {
          "name": "stdout",
          "output_type": "stream",
          "text": [
            "Epoch 1, Loss: 0.6929371356964111\n",
            "Epoch 2, Loss: 0.6952269077301025\n",
            "Epoch 3, Loss: 0.6947862505912781\n",
            "Epoch 4, Loss: 0.6896237134933472\n",
            "Epoch 5, Loss: 0.6926026940345764\n",
            "Epoch 6, Loss: 0.6937386989593506\n",
            "Epoch 7, Loss: 0.6936451196670532\n",
            "Epoch 8, Loss: 0.6926700472831726\n",
            "Epoch 9, Loss: 0.6892966628074646\n",
            "Epoch 10, Loss: 0.6931112408638\n",
            "Epoch 11, Loss: 0.6952871680259705\n",
            "Epoch 12, Loss: 0.6948100924491882\n",
            "Epoch 13, Loss: 0.6957550048828125\n",
            "Epoch 14, Loss: 0.6933709383010864\n",
            "Epoch 15, Loss: 0.6896088719367981\n",
            "✅ Entraînement terminé et modèle sauvegardé.\n"
          ]
        }
      ],
      "source": [
        "# Créer un DataLoader\n",
        "batch_size = 32\n",
        "train_dataset = TensorDataset(x_train, y_train)\n",
        "train_loader = DataLoader(train_dataset, batch_size=batch_size, shuffle=True)\n",
        "\n",
        "# Entraînement du modèle\n",
        "num_epochs = 15\n",
        "optimizer = torch.optim.Adam(mlp_model.parameters(), lr=0.001)\n",
        "#criterion = nn.CrossEntropyLoss()\n",
        "losses = []\n",
        "for epoch in range(num_epochs):\n",
        "    for images, labels in train_loader:\n",
        "        optimizer.zero_grad()\n",
        "        outputs = mlp_model(images)\n",
        "        loss = criterion(outputs, labels)\n",
        "        loss.backward()\n",
        "        optimizer.step()\n",
        "    losses.append(loss.item())\n",
        "\n",
        "    print(f\"Epoch {epoch+1}, Loss: {loss.item()}\")\n",
        "\n",
        "# Sauvegarde du modèle entraîné\n",
        "torch.save(mlp_model.state_dict(), \"/content/drive/MyDrive/fusion_model/large_mlp_10000.pth\")\n",
        "print(\"✅ Entraînement terminé et modèle sauvegardé.\")"
      ]
    },
    {
      "cell_type": "code",
      "execution_count": null,
      "metadata": {
        "colab": {
          "base_uri": "https://localhost:8080/",
          "height": 472
        },
        "id": "Vv7Kx6jQtljM",
        "outputId": "eacfd758-7f3b-47ff-e185-76b6acdfbac4"
      },
      "outputs": [
        {
          "data": {
            "image/png": "[encoded data removed]",
            "text/plain": [
              "<Figure size 640x480 with 1 Axes>"
            ]
          },
          "metadata": {},
          "output_type": "display_data"
        }
      ],
      "source": [
        "plt.plot(losses)\n",
        "plt.xlabel(\"Epoch\")\n",
        "plt.ylabel(\"Loss\")\n",
        "plt.title(\"Loss during Training\")\n",
        "plt.show()"
      ]
    },
    {
      "cell_type": "code",
      "execution_count": null,
      "metadata": {
        "colab": {
          "base_uri": "https://localhost:8080/"
        },
        "id": "24dC5ygDcrUl",
        "outputId": "c8ba7e2e-f50a-4245-8f22-e7bd14ecf45a"
      },
      "outputs": [
        {
          "name": "stderr",
          "output_type": "stream",
          "text": [
            "<ipython-input-29-f36c431709f7>:1: FutureWarning: You are using `torch.load` with `weights_only=False` (the current default value), which uses the default pickle module implicitly. It is possible to construct malicious pickle data which will execute arbitrary code during unpickling (See https://github.com/pytorch/pytorch/blob/main/SECURITY.md#untrusted-models for more details). In a future release, the default value for `weights_only` will be flipped to `True`. This limits the functions that could be executed during unpickling. Arbitrary objects will no longer be allowed to be loaded via this mode unless they are explicitly allowlisted by the user via `torch.serialization.add_safe_globals`. We recommend you start setting `weights_only=True` for any use case where you don't have full control of the loaded file. Please open an issue on GitHub for any issues related to this experimental feature.\n",
            "  mlp_model.load_state_dict(torch.load(\"/content/drive/MyDrive/fusion_model/large_mlp_10000.pth\"))\n"
          ]
        },
        {
          "data": {
            "text/plain": [
              "<All keys matched successfully>"
            ]
          },
          "execution_count": 29,
          "metadata": {},
          "output_type": "execute_result"
        }
      ],
      "source": [
        "mlp_model.load_state_dict(torch.load(\"/content/drive/MyDrive/fusion_model/large_mlp_10000.pth\"))"
      ]
    },
    {
      "cell_type": "code",
      "execution_count": null,
      "metadata": {
        "colab": {
          "base_uri": "https://localhost:8080/"
        },
        "id": "rKKpq5lI4EcI",
        "outputId": "bb2631b9-4b54-4445-dcb4-ba09288146f1"
      },
      "outputs": [
        {
          "name": "stdout",
          "output_type": "stream",
          "text": [
            "✅ Précision sur le dataset de test : 60.14%\n",
            "✅ Test terminé.\n"
          ]
        }
      ],
      "source": [
        "# Créer un DataLoader\n",
        "batch_size = 32\n",
        "train_dataset = TensorDataset(x_train, y_train)\n",
        "train_loader = DataLoader(train_dataset, batch_size=batch_size, shuffle=True)\n",
        "\n",
        "with torch.no_grad():\n",
        "    mlp_model.eval()\n",
        "    correct = 0\n",
        "    total = 0\n",
        "    for images, labels in train_loader:\n",
        "        outputs = mlp_model(images)\n",
        "        _, predicted = torch.max(outputs.data, 1)\n",
        "        total += labels.size(0)\n",
        "        correct += (predicted == labels).sum().item()\n",
        "\n",
        "    accuracy = 100 * correct / total\n",
        "    print(f\"✅ Précision sur le dataset de test : {accuracy}%\")\n",
        "    print(\"✅ Test terminé.\")"
      ]
    },
    {
      "cell_type": "code",
      "execution_count": null,
      "metadata": {
        "colab": {
          "base_uri": "https://localhost:8080/"
        },
        "id": "UZTHhf8pevg4",
        "outputId": "a4cbbb02-3afe-4bf4-9963-fe03971d3a5a"
      },
      "outputs": [
        {
          "name": "stdout",
          "output_type": "stream",
          "text": [
            "✅ Précision sur le dataset de test : 59.8%\n",
            "✅ Test terminé.\n"
          ]
        }
      ],
      "source": [
        "# Créer un DataLoader\n",
        "batch_size = 32\n",
        "test_dataset = TensorDataset(x_test, y_test)\n",
        "test_loader = DataLoader(test_dataset, batch_size=batch_size, shuffle=True)\n",
        "\n",
        "with torch.no_grad():\n",
        "    mlp_model.eval()\n",
        "    correct = 0\n",
        "    total = 0\n",
        "    for images, labels in test_loader:\n",
        "        outputs = mlp_model(images)\n",
        "        _, predicted = torch.max(outputs.data, 1)\n",
        "        total += labels.size(0)\n",
        "        correct += (predicted == labels).sum().item()\n",
        "\n",
        "    accuracy = 100 * correct / total\n",
        "    print(f\"✅ Précision sur le dataset de test : {accuracy}%\")\n",
        "    print(\"✅ Test terminé.\")"
      ]
    },
    {
      "cell_type": "code",
      "execution_count": null,
      "metadata": {
        "colab": {
          "base_uri": "https://localhost:8080/"
        },
        "id": "cDF9sehn3j0O",
        "outputId": "731b5432-5ac1-4434-ee04-6c615e79edb3"
      },
      "outputs": [
        {
          "name": "stderr",
          "output_type": "stream",
          "text": [
            "<ipython-input-33-09d260e14878>:2: FutureWarning: You are using `torch.load` with `weights_only=False` (the current default value), which uses the default pickle module implicitly. It is possible to construct malicious pickle data which will execute arbitrary code during unpickling (See https://github.com/pytorch/pytorch/blob/main/SECURITY.md#untrusted-models for more details). In a future release, the default value for `weights_only` will be flipped to `True`. This limits the functions that could be executed during unpickling. Arbitrary objects will no longer be allowed to be loaded via this mode unless they are explicitly allowlisted by the user via `torch.serialization.add_safe_globals`. We recommend you start setting `weights_only=True` for any use case where you don't have full control of the loaded file. Please open an issue on GitHub for any issues related to this experimental feature.\n",
            "  mlp_model.load_state_dict(torch.load(\"/content/drive/MyDrive/fusion_model/quickdraw_mlp_10000.pth\"))\n"
          ]
        },
        {
          "data": {
            "text/plain": [
              "MLPClassifier(\n",
              "  (fc1): Linear(in_features=328, out_features=164, bias=True)\n",
              "  (relu): ReLU()\n",
              "  (fc2): Linear(in_features=164, out_features=62, bias=True)\n",
              "  (fc3): Linear(in_features=62, out_features=2, bias=True)\n",
              ")"
            ]
          },
          "execution_count": 33,
          "metadata": {},
          "output_type": "execute_result"
        }
      ],
      "source": [
        "# Load the trained MLP model\n",
        "#mlp_model.load_state_dict(torch.load(\"/content/drive/MyDrive/fusion_model/quickdraw_mlp_10000.pth\"))\n",
        "mlp_model.load_state_dict(torch.load(\"/content/drive/MyDrive/fusion_model/new_mlp_10000.pth\"))\n",
        "mlp_model.eval()"
      ]
    },
    {
      "cell_type": "code",
      "execution_count": null,
      "metadata": {
        "colab": {
          "base_uri": "https://localhost:8080/"
        },
        "id": "xOkTBxIY1qal",
        "outputId": "66f206f9-9421-4886-fb68-0800d46b1da9"
      },
      "outputs": [
        {
          "name": "stdout",
          "output_type": "stream",
          "text": [
            "1\n",
            "Question: Peux-tu me dire si c'est un airplane ?\n",
            "Prediction: Oui\n"
          ]
        },
        {
          "data": {
            "image/png": "[encoded data removed]",
            "text/plain": [
              "<Figure size 640x480 with 1 Axes>"
            ]
          },
          "metadata": {},
          "output_type": "display_data"
        }
      ],
      "source": [
        "# Example usage:\n",
        "def predict_answer(image_vector, question):\n",
        "    # Extract image features\n",
        "    image_features = extract_image_features(image_vector)\n",
        "\n",
        "    # Encode the question\n",
        "    question_features = encode_question(question)\n",
        "\n",
        "    # Fuse features\n",
        "    fused_features = fuse_features(image_features, question_features)\n",
        "\n",
        "    # Convert to tensor\n",
        "    input_tensor = torch.tensor(fused_features, dtype=torch.float32).unsqueeze(0).to(device)\n",
        "\n",
        "    # Make prediction\n",
        "    with torch.no_grad():\n",
        "        output = mlp_model(input_tensor)\n",
        "        _, predicted = torch.max(output.data, 1)\n",
        "\n",
        "    # Return prediction (0 or 1)\n",
        "    return predicted.item()\n",
        "\n",
        "# Example prediction\n",
        "image_index = 1 # Choose an image index\n",
        "image_vector = df.iloc[image_index][\"image\"]\n",
        "question = \"Peux-tu me dire si c'est un airplane ?\"\n",
        "\n",
        "prediction = predict_answer(image_vector, question)\n",
        "print(prediction)\n",
        "print(f\"Question: {question}\")\n",
        "print(f\"Prediction: {'Oui' if prediction == 1 else 'Non'}\")\n",
        "\n",
        "# Display the image\n",
        "pic = image_vector.reshape(28, 28)\n",
        "plt.imshow(pic, cmap='gray')\n",
        "plt.title(f\"Actual Category: {df.iloc[image_index]['Catégorie']}\")\n",
        "plt.show()\n"
      ]
    }
  ],
  "metadata": {
    "accelerator": "GPU",
    "colab": {
      "gpuType": "A100",
      "machine_shape": "hm",
      "provenance": []
    },
    "kernelspec": {
      "display_name": ".venv",
      "language": "python",
      "name": "python3"
    },
    "language_info": {
      "codemirror_mode": {
        "name": "ipython",
        "version": 3
      },
      "file_extension": ".py",
      "mimetype": "text/x-python",
      "name": "python",
      "nbconvert_exporter": "python",
      "pygments_lexer": "ipython3",
      "version": "3.11.9"
    }
  },
  "nbformat": 4,
  "nbformat_minor": 0
}
